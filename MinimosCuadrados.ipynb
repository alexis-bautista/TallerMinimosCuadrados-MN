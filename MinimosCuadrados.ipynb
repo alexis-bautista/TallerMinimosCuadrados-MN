{
  "nbformat": 4,
  "nbformat_minor": 0,
  "metadata": {
    "colab": {
      "provenance": [],
      "authorship_tag": "ABX9TyNidmCHVZ/Mv7lBVQ0vwLYT"
    },
    "kernelspec": {
      "name": "python3",
      "display_name": "Python 3"
    },
    "language_info": {
      "name": "python"
    },
    "widgets": {
      "application/vnd.jupyter.widget-state+json": {
        "7a1d18eafdd049b198234454ba5f8a23": {
          "model_module": "@jupyter-widgets/controls",
          "model_name": "VBoxModel",
          "model_module_version": "1.5.0",
          "state": {
            "_dom_classes": [
              "widget-interact"
            ],
            "_model_module": "@jupyter-widgets/controls",
            "_model_module_version": "1.5.0",
            "_model_name": "VBoxModel",
            "_view_count": null,
            "_view_module": "@jupyter-widgets/controls",
            "_view_module_version": "1.5.0",
            "_view_name": "VBoxView",
            "box_style": "",
            "children": [
              "IPY_MODEL_4311036c174348ed9e8d34b2e75ef582",
              "IPY_MODEL_bbd836d152a94089892007d4075a9165",
              "IPY_MODEL_7164c38b34944a98ba6bf715f48c3612"
            ],
            "layout": "IPY_MODEL_e517e6806ca44ff89d8764e52f4ce34c"
          }
        },
        "4311036c174348ed9e8d34b2e75ef582": {
          "model_module": "@jupyter-widgets/controls",
          "model_name": "FloatSliderModel",
          "model_module_version": "1.5.0",
          "state": {
            "_dom_classes": [],
            "_model_module": "@jupyter-widgets/controls",
            "_model_module_version": "1.5.0",
            "_model_name": "FloatSliderModel",
            "_view_count": null,
            "_view_module": "@jupyter-widgets/controls",
            "_view_module_version": "1.5.0",
            "_view_name": "FloatSliderView",
            "continuous_update": true,
            "description": "p2_x",
            "description_tooltip": null,
            "disabled": false,
            "layout": "IPY_MODEL_c1bf55b12b2b4ddfb7373d6fc65f3c99",
            "max": 12.3,
            "min": 5.5,
            "orientation": "horizontal",
            "readout": true,
            "readout_format": ".2f",
            "step": 0.1,
            "style": "IPY_MODEL_25976586fc8d44db864b0efbe9876a6c",
            "value": 8.9
          }
        },
        "bbd836d152a94089892007d4075a9165": {
          "model_module": "@jupyter-widgets/controls",
          "model_name": "FloatSliderModel",
          "model_module_version": "1.5.0",
          "state": {
            "_dom_classes": [],
            "_model_module": "@jupyter-widgets/controls",
            "_model_module_version": "1.5.0",
            "_model_name": "FloatSliderModel",
            "_view_count": null,
            "_view_module": "@jupyter-widgets/controls",
            "_view_module_version": "1.5.0",
            "_view_name": "FloatSliderView",
            "continuous_update": true,
            "description": "p2_y",
            "description_tooltip": null,
            "disabled": false,
            "layout": "IPY_MODEL_e740871dc03b4a88bf7bbcb077c19379",
            "max": 10,
            "min": -10,
            "orientation": "horizontal",
            "readout": true,
            "readout_format": ".2f",
            "step": 0.1,
            "style": "IPY_MODEL_7ecd26612f9f4289a99d67c50dbdd3b0",
            "value": 0
          }
        },
        "7164c38b34944a98ba6bf715f48c3612": {
          "model_module": "@jupyter-widgets/output",
          "model_name": "OutputModel",
          "model_module_version": "1.0.0",
          "state": {
            "_dom_classes": [],
            "_model_module": "@jupyter-widgets/output",
            "_model_module_version": "1.0.0",
            "_model_name": "OutputModel",
            "_view_count": null,
            "_view_module": "@jupyter-widgets/output",
            "_view_module_version": "1.0.0",
            "_view_name": "OutputView",
            "layout": "IPY_MODEL_dadeedc1a7194a4dae700fe30ff52dd4",
            "msg_id": "",
            "outputs": [
              {
                "output_type": "display_data",
                "data": {
                  "text/plain": "<Figure size 1000x600 with 1 Axes>",
                  "image/png": "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\n"
                },
                "metadata": {}
              }
            ]
          }
        },
        "e517e6806ca44ff89d8764e52f4ce34c": {
          "model_module": "@jupyter-widgets/base",
          "model_name": "LayoutModel",
          "model_module_version": "1.2.0",
          "state": {
            "_model_module": "@jupyter-widgets/base",
            "_model_module_version": "1.2.0",
            "_model_name": "LayoutModel",
            "_view_count": null,
            "_view_module": "@jupyter-widgets/base",
            "_view_module_version": "1.2.0",
            "_view_name": "LayoutView",
            "align_content": null,
            "align_items": null,
            "align_self": null,
            "border": null,
            "bottom": null,
            "display": null,
            "flex": null,
            "flex_flow": null,
            "grid_area": null,
            "grid_auto_columns": null,
            "grid_auto_flow": null,
            "grid_auto_rows": null,
            "grid_column": null,
            "grid_gap": null,
            "grid_row": null,
            "grid_template_areas": null,
            "grid_template_columns": null,
            "grid_template_rows": null,
            "height": null,
            "justify_content": null,
            "justify_items": null,
            "left": null,
            "margin": null,
            "max_height": null,
            "max_width": null,
            "min_height": null,
            "min_width": null,
            "object_fit": null,
            "object_position": null,
            "order": null,
            "overflow": null,
            "overflow_x": null,
            "overflow_y": null,
            "padding": null,
            "right": null,
            "top": null,
            "visibility": null,
            "width": null
          }
        },
        "c1bf55b12b2b4ddfb7373d6fc65f3c99": {
          "model_module": "@jupyter-widgets/base",
          "model_name": "LayoutModel",
          "model_module_version": "1.2.0",
          "state": {
            "_model_module": "@jupyter-widgets/base",
            "_model_module_version": "1.2.0",
            "_model_name": "LayoutModel",
            "_view_count": null,
            "_view_module": "@jupyter-widgets/base",
            "_view_module_version": "1.2.0",
            "_view_name": "LayoutView",
            "align_content": null,
            "align_items": null,
            "align_self": null,
            "border": null,
            "bottom": null,
            "display": null,
            "flex": null,
            "flex_flow": null,
            "grid_area": null,
            "grid_auto_columns": null,
            "grid_auto_flow": null,
            "grid_auto_rows": null,
            "grid_column": null,
            "grid_gap": null,
            "grid_row": null,
            "grid_template_areas": null,
            "grid_template_columns": null,
            "grid_template_rows": null,
            "height": null,
            "justify_content": null,
            "justify_items": null,
            "left": null,
            "margin": null,
            "max_height": null,
            "max_width": null,
            "min_height": null,
            "min_width": null,
            "object_fit": null,
            "object_position": null,
            "order": null,
            "overflow": null,
            "overflow_x": null,
            "overflow_y": null,
            "padding": null,
            "right": null,
            "top": null,
            "visibility": null,
            "width": null
          }
        },
        "25976586fc8d44db864b0efbe9876a6c": {
          "model_module": "@jupyter-widgets/controls",
          "model_name": "SliderStyleModel",
          "model_module_version": "1.5.0",
          "state": {
            "_model_module": "@jupyter-widgets/controls",
            "_model_module_version": "1.5.0",
            "_model_name": "SliderStyleModel",
            "_view_count": null,
            "_view_module": "@jupyter-widgets/base",
            "_view_module_version": "1.2.0",
            "_view_name": "StyleView",
            "description_width": "",
            "handle_color": null
          }
        },
        "e740871dc03b4a88bf7bbcb077c19379": {
          "model_module": "@jupyter-widgets/base",
          "model_name": "LayoutModel",
          "model_module_version": "1.2.0",
          "state": {
            "_model_module": "@jupyter-widgets/base",
            "_model_module_version": "1.2.0",
            "_model_name": "LayoutModel",
            "_view_count": null,
            "_view_module": "@jupyter-widgets/base",
            "_view_module_version": "1.2.0",
            "_view_name": "LayoutView",
            "align_content": null,
            "align_items": null,
            "align_self": null,
            "border": null,
            "bottom": null,
            "display": null,
            "flex": null,
            "flex_flow": null,
            "grid_area": null,
            "grid_auto_columns": null,
            "grid_auto_flow": null,
            "grid_auto_rows": null,
            "grid_column": null,
            "grid_gap": null,
            "grid_row": null,
            "grid_template_areas": null,
            "grid_template_columns": null,
            "grid_template_rows": null,
            "height": null,
            "justify_content": null,
            "justify_items": null,
            "left": null,
            "margin": null,
            "max_height": null,
            "max_width": null,
            "min_height": null,
            "min_width": null,
            "object_fit": null,
            "object_position": null,
            "order": null,
            "overflow": null,
            "overflow_x": null,
            "overflow_y": null,
            "padding": null,
            "right": null,
            "top": null,
            "visibility": null,
            "width": null
          }
        },
        "7ecd26612f9f4289a99d67c50dbdd3b0": {
          "model_module": "@jupyter-widgets/controls",
          "model_name": "SliderStyleModel",
          "model_module_version": "1.5.0",
          "state": {
            "_model_module": "@jupyter-widgets/controls",
            "_model_module_version": "1.5.0",
            "_model_name": "SliderStyleModel",
            "_view_count": null,
            "_view_module": "@jupyter-widgets/base",
            "_view_module_version": "1.2.0",
            "_view_name": "StyleView",
            "description_width": "",
            "handle_color": null
          }
        },
        "dadeedc1a7194a4dae700fe30ff52dd4": {
          "model_module": "@jupyter-widgets/base",
          "model_name": "LayoutModel",
          "model_module_version": "1.2.0",
          "state": {
            "_model_module": "@jupyter-widgets/base",
            "_model_module_version": "1.2.0",
            "_model_name": "LayoutModel",
            "_view_count": null,
            "_view_module": "@jupyter-widgets/base",
            "_view_module_version": "1.2.0",
            "_view_name": "LayoutView",
            "align_content": null,
            "align_items": null,
            "align_self": null,
            "border": null,
            "bottom": null,
            "display": null,
            "flex": null,
            "flex_flow": null,
            "grid_area": null,
            "grid_auto_columns": null,
            "grid_auto_flow": null,
            "grid_auto_rows": null,
            "grid_column": null,
            "grid_gap": null,
            "grid_row": null,
            "grid_template_areas": null,
            "grid_template_columns": null,
            "grid_template_rows": null,
            "height": null,
            "justify_content": null,
            "justify_items": null,
            "left": null,
            "margin": null,
            "max_height": null,
            "max_width": null,
            "min_height": null,
            "min_width": null,
            "object_fit": null,
            "object_position": null,
            "order": null,
            "overflow": null,
            "overflow_x": null,
            "overflow_y": null,
            "padding": null,
            "right": null,
            "top": null,
            "visibility": null,
            "width": null
          }
        },
        "fce1d38087ba4c85a0a58aa7c25e38ae": {
          "model_module": "@jupyter-widgets/controls",
          "model_name": "VBoxModel",
          "model_module_version": "1.5.0",
          "state": {
            "_dom_classes": [
              "widget-interact"
            ],
            "_model_module": "@jupyter-widgets/controls",
            "_model_module_version": "1.5.0",
            "_model_name": "VBoxModel",
            "_view_count": null,
            "_view_module": "@jupyter-widgets/controls",
            "_view_module_version": "1.5.0",
            "_view_name": "VBoxView",
            "box_style": "",
            "children": [
              "IPY_MODEL_699eb67861ed4d74a593ecaed8203a3a",
              "IPY_MODEL_866f4accda01435aace72d211a3dd109",
              "IPY_MODEL_fd482374778d419e9ce4346a087eba31"
            ],
            "layout": "IPY_MODEL_821b97aea8a54e939a346559b96773a3"
          }
        },
        "699eb67861ed4d74a593ecaed8203a3a": {
          "model_module": "@jupyter-widgets/controls",
          "model_name": "FloatSliderModel",
          "model_module_version": "1.5.0",
          "state": {
            "_dom_classes": [],
            "_model_module": "@jupyter-widgets/controls",
            "_model_module_version": "1.5.0",
            "_model_name": "FloatSliderModel",
            "_view_count": null,
            "_view_module": "@jupyter-widgets/controls",
            "_view_module_version": "1.5.0",
            "_view_name": "FloatSliderView",
            "continuous_update": true,
            "description": "p2_x",
            "description_tooltip": null,
            "disabled": false,
            "layout": "IPY_MODEL_20067b20879249da8aef7adf15e2cce2",
            "max": 12.3,
            "min": 5.5,
            "orientation": "horizontal",
            "readout": true,
            "readout_format": ".2f",
            "step": 0.1,
            "style": "IPY_MODEL_64d82470c14740f0a9bf2f68d0216c03",
            "value": 8.9
          }
        },
        "866f4accda01435aace72d211a3dd109": {
          "model_module": "@jupyter-widgets/controls",
          "model_name": "FloatSliderModel",
          "model_module_version": "1.5.0",
          "state": {
            "_dom_classes": [],
            "_model_module": "@jupyter-widgets/controls",
            "_model_module_version": "1.5.0",
            "_model_name": "FloatSliderModel",
            "_view_count": null,
            "_view_module": "@jupyter-widgets/controls",
            "_view_module_version": "1.5.0",
            "_view_name": "FloatSliderView",
            "continuous_update": true,
            "description": "p2_y",
            "description_tooltip": null,
            "disabled": false,
            "layout": "IPY_MODEL_2cbcd8919b3c4400b90670a80944b064",
            "max": 10,
            "min": -10,
            "orientation": "horizontal",
            "readout": true,
            "readout_format": ".2f",
            "step": 0.1,
            "style": "IPY_MODEL_88e29e33c2bd489bba328bc1d2975cad",
            "value": 0
          }
        },
        "fd482374778d419e9ce4346a087eba31": {
          "model_module": "@jupyter-widgets/output",
          "model_name": "OutputModel",
          "model_module_version": "1.0.0",
          "state": {
            "_dom_classes": [],
            "_model_module": "@jupyter-widgets/output",
            "_model_module_version": "1.0.0",
            "_model_name": "OutputModel",
            "_view_count": null,
            "_view_module": "@jupyter-widgets/output",
            "_view_module_version": "1.0.0",
            "_view_name": "OutputView",
            "layout": "IPY_MODEL_a2432435e8fc4a8b91f90a9474335594",
            "msg_id": "",
            "outputs": [
              {
                "output_type": "display_data",
                "data": {
                  "text/plain": "<Figure size 1000x600 with 1 Axes>",
                  "image/png": "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\n"
                },
                "metadata": {}
              }
            ]
          }
        },
        "821b97aea8a54e939a346559b96773a3": {
          "model_module": "@jupyter-widgets/base",
          "model_name": "LayoutModel",
          "model_module_version": "1.2.0",
          "state": {
            "_model_module": "@jupyter-widgets/base",
            "_model_module_version": "1.2.0",
            "_model_name": "LayoutModel",
            "_view_count": null,
            "_view_module": "@jupyter-widgets/base",
            "_view_module_version": "1.2.0",
            "_view_name": "LayoutView",
            "align_content": null,
            "align_items": null,
            "align_self": null,
            "border": null,
            "bottom": null,
            "display": null,
            "flex": null,
            "flex_flow": null,
            "grid_area": null,
            "grid_auto_columns": null,
            "grid_auto_flow": null,
            "grid_auto_rows": null,
            "grid_column": null,
            "grid_gap": null,
            "grid_row": null,
            "grid_template_areas": null,
            "grid_template_columns": null,
            "grid_template_rows": null,
            "height": null,
            "justify_content": null,
            "justify_items": null,
            "left": null,
            "margin": null,
            "max_height": null,
            "max_width": null,
            "min_height": null,
            "min_width": null,
            "object_fit": null,
            "object_position": null,
            "order": null,
            "overflow": null,
            "overflow_x": null,
            "overflow_y": null,
            "padding": null,
            "right": null,
            "top": null,
            "visibility": null,
            "width": null
          }
        },
        "20067b20879249da8aef7adf15e2cce2": {
          "model_module": "@jupyter-widgets/base",
          "model_name": "LayoutModel",
          "model_module_version": "1.2.0",
          "state": {
            "_model_module": "@jupyter-widgets/base",
            "_model_module_version": "1.2.0",
            "_model_name": "LayoutModel",
            "_view_count": null,
            "_view_module": "@jupyter-widgets/base",
            "_view_module_version": "1.2.0",
            "_view_name": "LayoutView",
            "align_content": null,
            "align_items": null,
            "align_self": null,
            "border": null,
            "bottom": null,
            "display": null,
            "flex": null,
            "flex_flow": null,
            "grid_area": null,
            "grid_auto_columns": null,
            "grid_auto_flow": null,
            "grid_auto_rows": null,
            "grid_column": null,
            "grid_gap": null,
            "grid_row": null,
            "grid_template_areas": null,
            "grid_template_columns": null,
            "grid_template_rows": null,
            "height": null,
            "justify_content": null,
            "justify_items": null,
            "left": null,
            "margin": null,
            "max_height": null,
            "max_width": null,
            "min_height": null,
            "min_width": null,
            "object_fit": null,
            "object_position": null,
            "order": null,
            "overflow": null,
            "overflow_x": null,
            "overflow_y": null,
            "padding": null,
            "right": null,
            "top": null,
            "visibility": null,
            "width": null
          }
        },
        "64d82470c14740f0a9bf2f68d0216c03": {
          "model_module": "@jupyter-widgets/controls",
          "model_name": "SliderStyleModel",
          "model_module_version": "1.5.0",
          "state": {
            "_model_module": "@jupyter-widgets/controls",
            "_model_module_version": "1.5.0",
            "_model_name": "SliderStyleModel",
            "_view_count": null,
            "_view_module": "@jupyter-widgets/base",
            "_view_module_version": "1.2.0",
            "_view_name": "StyleView",
            "description_width": "",
            "handle_color": null
          }
        },
        "2cbcd8919b3c4400b90670a80944b064": {
          "model_module": "@jupyter-widgets/base",
          "model_name": "LayoutModel",
          "model_module_version": "1.2.0",
          "state": {
            "_model_module": "@jupyter-widgets/base",
            "_model_module_version": "1.2.0",
            "_model_name": "LayoutModel",
            "_view_count": null,
            "_view_module": "@jupyter-widgets/base",
            "_view_module_version": "1.2.0",
            "_view_name": "LayoutView",
            "align_content": null,
            "align_items": null,
            "align_self": null,
            "border": null,
            "bottom": null,
            "display": null,
            "flex": null,
            "flex_flow": null,
            "grid_area": null,
            "grid_auto_columns": null,
            "grid_auto_flow": null,
            "grid_auto_rows": null,
            "grid_column": null,
            "grid_gap": null,
            "grid_row": null,
            "grid_template_areas": null,
            "grid_template_columns": null,
            "grid_template_rows": null,
            "height": null,
            "justify_content": null,
            "justify_items": null,
            "left": null,
            "margin": null,
            "max_height": null,
            "max_width": null,
            "min_height": null,
            "min_width": null,
            "object_fit": null,
            "object_position": null,
            "order": null,
            "overflow": null,
            "overflow_x": null,
            "overflow_y": null,
            "padding": null,
            "right": null,
            "top": null,
            "visibility": null,
            "width": null
          }
        },
        "88e29e33c2bd489bba328bc1d2975cad": {
          "model_module": "@jupyter-widgets/controls",
          "model_name": "SliderStyleModel",
          "model_module_version": "1.5.0",
          "state": {
            "_model_module": "@jupyter-widgets/controls",
            "_model_module_version": "1.5.0",
            "_model_name": "SliderStyleModel",
            "_view_count": null,
            "_view_module": "@jupyter-widgets/base",
            "_view_module_version": "1.2.0",
            "_view_name": "StyleView",
            "description_width": "",
            "handle_color": null
          }
        },
        "a2432435e8fc4a8b91f90a9474335594": {
          "model_module": "@jupyter-widgets/base",
          "model_name": "LayoutModel",
          "model_module_version": "1.2.0",
          "state": {
            "_model_module": "@jupyter-widgets/base",
            "_model_module_version": "1.2.0",
            "_model_name": "LayoutModel",
            "_view_count": null,
            "_view_module": "@jupyter-widgets/base",
            "_view_module_version": "1.2.0",
            "_view_name": "LayoutView",
            "align_content": null,
            "align_items": null,
            "align_self": null,
            "border": null,
            "bottom": null,
            "display": null,
            "flex": null,
            "flex_flow": null,
            "grid_area": null,
            "grid_auto_columns": null,
            "grid_auto_flow": null,
            "grid_auto_rows": null,
            "grid_column": null,
            "grid_gap": null,
            "grid_row": null,
            "grid_template_areas": null,
            "grid_template_columns": null,
            "grid_template_rows": null,
            "height": null,
            "justify_content": null,
            "justify_items": null,
            "left": null,
            "margin": null,
            "max_height": null,
            "max_width": null,
            "min_height": null,
            "min_width": null,
            "object_fit": null,
            "object_position": null,
            "order": null,
            "overflow": null,
            "overflow_x": null,
            "overflow_y": null,
            "padding": null,
            "right": null,
            "top": null,
            "visibility": null,
            "width": null
          }
        }
      }
    }
  },
  "cells": [
    {
      "cell_type": "markdown",
      "source": [
        "# Taller 04 - Minimos Cuadrados\n",
        "\n",
        "**Nombre:** Alexis Bautista  \n",
        "**Fecha:** 14 de diciembre de 2024  \n",
        "**Link GitHub:** https://github.com/alexis-bautista/TallerMinimosCuadrados-MN.git"
      ],
      "metadata": {
        "id": "EXC0VLt7YZmw"
      }
    },
    {
      "cell_type": "markdown",
      "source": [
        "## Codigo proporcionado"
      ],
      "metadata": {
        "id": "GHIx1RoIZ3lT"
      }
    },
    {
      "cell_type": "code",
      "execution_count": null,
      "metadata": {
        "id": "YzGsThVgWLiU"
      },
      "outputs": [],
      "source": [
        "p1 = (5.4, 3.2)\n",
        "p2_i = (9.5, 0.7)\n",
        "p3 = (12.3, -3.6)"
      ]
    },
    {
      "cell_type": "code",
      "source": [
        "from ipywidgets import interact\n",
        "import matplotlib.pyplot as plt\n",
        "\n",
        "m = -1\n",
        "b = 8\n",
        "\n",
        "\n",
        "def update_plot(p2_x, p2_y):\n",
        "    x_coords = [p1[0], p2_x, p3[0]]\n",
        "    y_coords = [p1[1], p2_y, p3[1]]\n",
        "\n",
        "    plt.figure(figsize=(10, 6))\n",
        "    plt.scatter(x_coords, y_coords, color=\"red\")\n",
        "\n",
        "    x_line = [min(x_coords), max(x_coords)]\n",
        "    y_line = [m * x + b for x in x_line]\n",
        "    plt.plot(x_line, y_line, color=\"blue\")\n",
        "\n",
        "    plt.xlabel(\"X\")\n",
        "    plt.ylabel(\"Y\")\n",
        "    plt.title(\"Points and Line Plot\")\n",
        "    plt.show()\n",
        "\n",
        "\n",
        "_ = interact(update_plot, p2_x=(5.5, 12.3, 0.1), p2_y=(-10.0, 10.0, 0.1))"
      ],
      "metadata": {
        "colab": {
          "base_uri": "https://localhost:8080/",
          "height": 628,
          "referenced_widgets": [
            "7a1d18eafdd049b198234454ba5f8a23",
            "4311036c174348ed9e8d34b2e75ef582",
            "bbd836d152a94089892007d4075a9165",
            "7164c38b34944a98ba6bf715f48c3612",
            "e517e6806ca44ff89d8764e52f4ce34c",
            "c1bf55b12b2b4ddfb7373d6fc65f3c99",
            "25976586fc8d44db864b0efbe9876a6c",
            "e740871dc03b4a88bf7bbcb077c19379",
            "7ecd26612f9f4289a99d67c50dbdd3b0",
            "dadeedc1a7194a4dae700fe30ff52dd4"
          ]
        },
        "id": "G0XcpPPYWPoW",
        "outputId": "148085d6-be67-42b7-e0d8-127bc9e8d318"
      },
      "execution_count": null,
      "outputs": [
        {
          "output_type": "display_data",
          "data": {
            "text/plain": [
              "interactive(children=(FloatSlider(value=8.9, description='p2_x', max=12.3, min=5.5), FloatSlider(value=0.0, de…"
            ],
            "application/vnd.jupyter.widget-view+json": {
              "version_major": 2,
              "version_minor": 0,
              "model_id": "7a1d18eafdd049b198234454ba5f8a23"
            }
          },
          "metadata": {}
        }
      ]
    },
    {
      "cell_type": "markdown",
      "source": [
        "## Modificacion de codigo"
      ],
      "metadata": {
        "id": "xYlR_62cZC4l"
      }
    },
    {
      "cell_type": "markdown",
      "source": [
        "Tenemos que el codigo proprcionado declara los valores de m y b, entonces en este caso agregamos regresion lineal para calcular automaticamente m y b se usa la libreria numpy con su funciones np.linalg.lstsq y numpy.vstack con esto logramos obtener una línea ajustada automáticamente, mejorando la representación visual.\n",
        "\n",
        "Funcionamiento de las librerias numpy.vstack y numpy.linalg.lstsq  \n",
        "La función np.vstack se utiliza aquí para construir la matriz A requerida para calcular los parametros de la regresión lineal (m y b) mediante mínimos cuadrados.\n",
        "\n",
        "np.linalg.lstsq resuelve el sistema de ecuaciones mediante mínimos cuadrados.\n"
      ],
      "metadata": {
        "id": "AXxDUq0WajKR"
      }
    },
    {
      "cell_type": "code",
      "source": [
        "import numpy as np\n",
        "\n",
        "def update_plot(p2_x, p2_y):\n",
        "    x_coords = np.array([p1[0], p2_x, p3[0]])\n",
        "    y_coords = np.array([p1[1], p2_y, p3[1]])\n",
        "\n",
        "    # regresion lineal para calcular m y b\n",
        "    A = np.vstack([x_coords, np.ones(len(x_coords))]).T\n",
        "    '''np.ones Se usa para agregar una columna de unos a la matriz de entrada\n",
        "    (A), lo que permite calcular el término constante (b) en la ecuación de la\n",
        "    recta'''\n",
        "    m, b = np.linalg.lstsq(A, y_coords, rcond=None)[0]\n",
        "\n",
        "    plt.figure(figsize=(10, 6))\n",
        "    plt.scatter(x_coords, y_coords, color=\"red\")\n",
        "\n",
        "    x_line = np.linspace(min(x_coords), max(x_coords), 100)\n",
        "    y_line = m * x_line + b\n",
        "    plt.plot(x_line, y_line, color=\"blue\")\n",
        "\n",
        "    plt.xlabel(\"X\")\n",
        "    plt.ylabel(\"Y\")\n",
        "    plt.title(\"Points and Line Plot with Linear Regression\")\n",
        "    plt.show()\n",
        "\n",
        "\n",
        "_ = interact(update_plot, p2_x=(5.5, 12.3, 0.1), p2_y=(-10.0, 10.0, 0.1))\n"
      ],
      "metadata": {
        "colab": {
          "base_uri": "https://localhost:8080/",
          "height": 628,
          "referenced_widgets": [
            "fce1d38087ba4c85a0a58aa7c25e38ae",
            "699eb67861ed4d74a593ecaed8203a3a",
            "866f4accda01435aace72d211a3dd109",
            "fd482374778d419e9ce4346a087eba31",
            "821b97aea8a54e939a346559b96773a3",
            "20067b20879249da8aef7adf15e2cce2",
            "64d82470c14740f0a9bf2f68d0216c03",
            "2cbcd8919b3c4400b90670a80944b064",
            "88e29e33c2bd489bba328bc1d2975cad",
            "a2432435e8fc4a8b91f90a9474335594"
          ]
        },
        "id": "dmjPDu_FZCNt",
        "outputId": "24addcd3-5f08-4c8d-df48-d0a32a188b04"
      },
      "execution_count": 8,
      "outputs": [
        {
          "output_type": "display_data",
          "data": {
            "text/plain": [
              "interactive(children=(FloatSlider(value=8.9, description='p2_x', max=12.3, min=5.5), FloatSlider(value=0.0, de…"
            ],
            "application/vnd.jupyter.widget-view+json": {
              "version_major": 2,
              "version_minor": 0,
              "model_id": "fce1d38087ba4c85a0a58aa7c25e38ae"
            }
          },
          "metadata": {}
        }
      ]
    }
  ]
}